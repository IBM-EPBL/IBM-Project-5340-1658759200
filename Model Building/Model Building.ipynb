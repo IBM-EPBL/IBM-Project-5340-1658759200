{
 "cells": [
  {
   "cell_type": "code",
   "execution_count": 43,
   "metadata": {
    "_cell_guid": "79c7e3d0-c299-4dcb-8224-4455121ee9b0",
    "_uuid": "d629ff2d2480ee46fbb7e2d37f6b5fab8052498a"
   },
   "outputs": [],
   "source": [
    "import numpy as np\n",
    "import pandas as pd\n",
    "import pickle #to save model\n",
    "import seaborn as sns\n",
    "import warnings\n",
    "warnings.filterwarnings('ignore')\n",
    "import matplotlib.pyplot as plt\n",
    "\n"
   ]
  },
  {
   "cell_type": "code",
   "execution_count": 44,
   "metadata": {
    "_uuid": "c5bc5bd69564968fc40e7dfd31b8652b54496053"
   },
   "outputs": [],
   "source": [
    "\n",
    "df = pd.read_csv(\"input/Admission_Predict.csv\",sep = \",\")\n",
    "serialNo = df[\"Serial No.\"].values\n",
    "\n",
    "df.drop([\"Serial No.\"],axis=1,inplace = True)\n",
    "\n",
    "df=df.rename(columns = {'Chance of Admit ':'Chance of Admit'})"
   ]
  },
  {
   "cell_type": "code",
   "execution_count": 45,
   "metadata": {
    "_uuid": "07891939d1aac234d2c81a4b07e4fefcb5d56e91"
   },
   "outputs": [],
   "source": [
    "X=df.drop('Chance of Admit',axis=1)\n",
    "y=df['Chance of Admit']"
   ]
  },
  {
   "cell_type": "code",
   "execution_count": 46,
   "metadata": {
    "_uuid": "612af99a549e056fe2bf76035d1c6859ee5836e4"
   },
   "outputs": [],
   "source": [
    "from sklearn.model_selection import train_test_split\n",
    "from sklearn import preprocessing\n",
    "\n",
    "#Normalisation works slightly better for Regression.\n",
    "X_norm=preprocessing.normalize(X)\n",
    "X_train,X_test,y_train,y_test=train_test_split(X_norm,y,test_size=0.20,random_state=101)"
   ]
  },
  {
   "cell_type": "code",
   "execution_count": 47,
   "metadata": {
    "_uuid": "70201f3003ae2f6a80a27157b58c6fb4bba24b2d"
   },
   "outputs": [],
   "source": [
    "from sklearn.linear_model import LinearRegression,LogisticRegression\n",
    "from sklearn.tree import DecisionTreeRegressor,DecisionTreeClassifier\n",
    "from sklearn.ensemble import RandomForestRegressor,RandomForestClassifier\n",
    "from sklearn.ensemble import GradientBoostingRegressor,GradientBoostingClassifier\n",
    "from sklearn.ensemble import AdaBoostRegressor,AdaBoostClassifier\n",
    "from sklearn.ensemble import ExtraTreesRegressor,ExtraTreesClassifier\n",
    "from sklearn.neighbors import KNeighborsRegressor,KNeighborsClassifier\n",
    "from sklearn.svm import SVR,SVC\n",
    "from sklearn.naive_bayes import GaussianNB\n",
    "\n",
    "from sklearn.metrics import accuracy_score,mean_squared_error"
   ]
  },
  {
   "cell_type": "code",
   "execution_count": 48,
   "metadata": {
    "_uuid": "ffb03616e0dcd33e4234ec74640ffd13c91529c9"
   },
   "outputs": [
    {
     "name": "stdout",
     "output_type": "stream",
     "text": [
      "Results...\n",
      "\n",
      "Linear Regression : 0.0769745219608656\n",
      "Decision Tree Regression : 0.11914801718870524\n",
      "Random Forest Regression : 0.07366229530770814\n",
      "Gradient Boosting Regression : 0.07280566663475711\n",
      "Ada Boosting Regression : 0.08141134997555124\n",
      "Extra Tree Regression : 0.07685563821217029\n",
      "K-Neighbors Regression : 0.09130553104823387\n",
      "Support Vector Regression : 0.13567695865096108\n"
     ]
    }
   ],
   "source": [
    "regressors=[['Linear Regression :',LinearRegression()],\n",
    "       ['Decision Tree Regression :',DecisionTreeRegressor()],\n",
    "       ['Random Forest Regression :',RandomForestRegressor()],\n",
    "       ['Gradient Boosting Regression :', GradientBoostingRegressor()],\n",
    "       ['Ada Boosting Regression :',AdaBoostRegressor()],\n",
    "       ['Extra Tree Regression :', ExtraTreesRegressor()],\n",
    "       ['K-Neighbors Regression :',KNeighborsRegressor()],\n",
    "       ['Support Vector Regression :',SVR()]]\n",
    "reg_pred=[]\n",
    "print('Results...\\n')\n",
    "for name,model in regressors:\n",
    "    model=model\n",
    "    model.fit(X_train,y_train)\n",
    "    predictions = model.predict(X_test)\n",
    "    rms=np.sqrt(mean_squared_error(y_test, predictions))\n",
    "    reg_pred.append(rms)\n",
    "    print(name,rms)\n",
    "    filename = name+'.sav'\n",
    "    pickle.dump(model, open(filename, 'wb'))"
   ]
  },
  {
   "cell_type": "code",
   "execution_count": 49,
   "metadata": {
    "_uuid": "41fb107f87b81e9770472a96e9f52290e54abafa"
   },
   "outputs": [],
   "source": [
    "y_ax=['Linear Regression' ,'Decision Tree Regression', 'Random Forest Regression','Gradient Boosting Regression', 'Ada Boosting Regression','Extra Tree Regression' ,'K-Neighbors Regression', 'Support Vector Regression' ]\n",
    "x_ax=reg_pred"
   ]
  },
  {
   "cell_type": "code",
   "execution_count": 50,
   "metadata": {
    "_uuid": "aa4abfa043ad5abeaf17b6a98f8119ea349e3d65"
   },
   "outputs": [
    {
     "data": {
      "text/plain": [
       "<AxesSubplot:>"
      ]
     },
     "execution_count": 50,
     "metadata": {},
     "output_type": "execute_result"
    },
    {
     "data": {
      "image/png": "[encoded data removed]",
      "text/plain": [
       "<Figure size 432x288 with 1 Axes>"
      ]
     },
     "metadata": {
      "needs_background": "light"
     },
     "output_type": "display_data"
    }
   ],
   "source": [
    "sns.barplot(x=x_ax,y=y_ax,linewidth=1.5,edgecolor=\"0.1\")"
   ]
  },
  {
   "cell_type": "code",
   "execution_count": 51,
   "metadata": {
    "_uuid": "fe7ace97c02420e6deb25d15f93af786a3ba4ebc"
   },
   "outputs": [],
   "source": [
    "from sklearn.model_selection import train_test_split\n",
    "\n",
    "X_train,X_test,y_train,y_test=train_test_split(X,y,test_size=0.20,random_state=101)"
   ]
  },
  {
   "cell_type": "code",
   "execution_count": 52,
   "metadata": {
    "_uuid": "e5d2bb8d1eccf8c5bc13fad7049fc6d81275e869"
   },
   "outputs": [],
   "source": [
    "#If Chance of Admit greater than 80% we classify it as 1\n",
    "y_train_c = [1 if each > 0.8 else 0 for each in y_train]\n",
    "y_test_c  = [1 if each > 0.8 else 0 for each in y_test]"
   ]
  },
  {
   "cell_type": "code",
   "execution_count": 53,
   "metadata": {
    "_uuid": "e8d666d86cac4c997f2bd93433977c7ca65c8c11"
   },
   "outputs": [
    {
     "name": "stdout",
     "output_type": "stream",
     "text": [
      "Logistic Regression : 0.9125\n",
      "Decision Tree Classification : 0.9375\n",
      "Random Forest Classification : 0.9375\n",
      "Gradient Boosting Classification : 0.9125\n",
      "Ada Boosting Classification : 0.9125\n",
      "Extra Tree Classification : 0.95\n",
      "K-Neighbors Classification : 0.9375\n",
      "Support Vector Classification : 0.85\n",
      "Gausian Naive Bayes : 0.9375\n"
     ]
    }
   ],
   "source": [
    "classifiers=[['Logistic Regression :',LogisticRegression()],\n",
    "       ['Decision Tree Classification :',DecisionTreeClassifier()],\n",
    "       ['Random Forest Classification :',RandomForestClassifier()],\n",
    "       ['Gradient Boosting Classification :', GradientBoostingClassifier()],\n",
    "       ['Ada Boosting Classification :',AdaBoostClassifier()],\n",
    "       ['Extra Tree Classification :', ExtraTreesClassifier()],\n",
    "       ['K-Neighbors Classification :',KNeighborsClassifier()],\n",
    "       ['Support Vector Classification :',SVC()],\n",
    "       ['Gausian Naive Bayes :',GaussianNB()]]\n",
    "cla_pred=[]\n",
    "\n",
    "\n",
    "for name,model in classifiers:\n",
    "    model=model\n",
    "    model.fit(X_train,y_train_c)\n",
    "    predictions = model.predict(X_test)\n",
    "    cla_pred.append(accuracy_score(y_test_c,predictions))\n",
    "    print(name,accuracy_score(y_test_c,predictions))\n",
    "    filename = name+'.sav'\n",
    "    pickle.dump(model, open(filename, 'wb'))"
   ]
  },
  {
   "cell_type": "code",
   "execution_count": 54,
   "metadata": {
    "_uuid": "d52f4e3987516dd77b9969c21e3689219ae5023d"
   },
   "outputs": [],
   "source": [
    "y_ax=['Logistic Regression' ,\n",
    "      'Decision Tree Classifier',\n",
    "      'Random Forest Classifier',\n",
    "      'Gradient Boosting Classifier',\n",
    "      'Ada Boosting Classifier',\n",
    "      'Extra Tree Classifier' ,\n",
    "      'K-Neighbors Classifier',\n",
    "      'Support Vector Classifier',\n",
    "       'Gaussian Naive Bayes']\n",
    "x_ax=cla_pred"
   ]
  },
  {
   "cell_type": "code",
   "execution_count": 55,
   "metadata": {
    "_uuid": "c7ad9f80468ea8d16c14998df771f60d060bb0cd"
   },
   "outputs": [
    {
     "data": {
      "text/plain": [
       "Text(0.5, 0, 'Accuracy')"
      ]
     },
     "execution_count": 55,
     "metadata": {},
     "output_type": "execute_result"
    },
    {
     "data": {
      "image/png": "[encoded data removed]",
      "text/plain": [
       "<Figure size 432x288 with 1 Axes>"
      ]
     },
     "metadata": {
      "needs_background": "light"
     },
     "output_type": "display_data"
    }
   ],
   "source": [
    "sns.barplot(x=x_ax,y=y_ax,linewidth=1.5,edgecolor=\"0.8\")\n",
    "plt.xlabel('Accuracy')"
   ]
  }
 ],
 "metadata": {
  "kernelspec": {
   "display_name": "Python 3 (ipykernel)",
   "language": "python",
   "name": "python3"
  },
  "language_info": {
   "codemirror_mode": {
    "name": "ipython",
    "version": 3
   },
   "file_extension": ".py",
   "mimetype": "text/x-python",
   "name": "python",
   "nbconvert_exporter": "python",
   "pygments_lexer": "ipython3",
   "version": "3.9.12"
  }
 },
 "nbformat": 4,
 "nbformat_minor": 4
}
